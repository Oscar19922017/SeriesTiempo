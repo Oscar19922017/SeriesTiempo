{
  "nbformat": 4,
  "nbformat_minor": 0,
  "metadata": {
    "kernelspec": {
      "display_name": "Python 3",
      "language": "python",
      "name": "python3"
    },
    "language_info": {
      "codemirror_mode": {
        "name": "ipython",
        "version": 3
      },
      "file_extension": ".py",
      "mimetype": "text/x-python",
      "name": "python",
      "nbconvert_exporter": "python",
      "pygments_lexer": "ipython3",
      "version": "3.7.7"
    },
    "colab": {
      "name": "RED NEU.ipynb",
      "provenance": [],
      "collapsed_sections": [],
      "include_colab_link": true
    }
  },
  "cells": [
    {
      "cell_type": "markdown",
      "metadata": {
        "id": "view-in-github",
        "colab_type": "text"
      },
      "source": [
        "<a href=\"https://colab.research.google.com/github/Oscar19922017/SeriesTiempo/blob/main/RedNeuronalST.ipynb\" target=\"_parent\"><img src=\"https://colab.research.google.com/assets/colab-badge.svg\" alt=\"Open In Colab\"/></a>"
      ]
    },
    {
      "cell_type": "markdown",
      "metadata": {
        "id": "gEqiWj8ZI81E"
      },
      "source": [
        "Vamos a comenzar con la práctica, cargando un dataset que contiene información de casi 2 años de ventas diarias de productos. Los campos que contiene son fecha y la cantidad de unidades vendidas."
      ]
    },
    {
      "cell_type": "code",
      "metadata": {
        "id": "9x-C3c09I81F"
      },
      "source": [
        "import pandas as pd\n",
        "import numpy as np\n",
        "import matplotlib.pylab as plt\n",
        "%matplotlib inline\n",
        "plt.rcParams['figure.figsize'] = (16, 9)\n",
        "plt.style.use('fast')\n",
        "\n",
        "from keras.models import Sequential\n",
        "from keras.layers import Dense,Activation,Flatten\n",
        "from sklearn.preprocessing import MinMaxScaler"
      ],
      "execution_count": 1,
      "outputs": []
    },
    {
      "cell_type": "code",
      "metadata": {
        "id": "jKMr8vPPI81G"
      },
      "source": [
        "#pip install tensorflow"
      ],
      "execution_count": 2,
      "outputs": []
    },
    {
      "cell_type": "code",
      "metadata": {
        "colab": {
          "base_uri": "https://localhost:8080/"
        },
        "id": "BvDR7-VSI81G",
        "outputId": "e7572fed-81e6-4e4f-e592-4bb1cb805eb5"
      },
      "source": [
        "import pandas as pd\n",
        "\n",
        "url = \"https://raw.githubusercontent.com/jbagnato/machine-learning/master/time_series.csv\"\n",
        "df = pd.read_csv(url, parse_dates=[0], header=None,index_col=0, squeeze=True,names=['fecha','unidades'])\n",
        "\n",
        "print(df.head())"
      ],
      "execution_count": 3,
      "outputs": [
        {
          "output_type": "stream",
          "name": "stdout",
          "text": [
            "fecha\n",
            "2017-01-02    236\n",
            "2017-01-03    237\n",
            "2017-01-04    290\n",
            "2017-01-05    221\n",
            "2017-01-07    128\n",
            "Name: unidades, dtype: int64\n"
          ]
        }
      ]
    },
    {
      "cell_type": "code",
      "metadata": {
        "colab": {
          "base_uri": "https://localhost:8080/"
        },
        "id": "upAhVY-SI81G",
        "outputId": "a88b6a09-01f8-4fc7-fe70-cc5cdb1ca8db"
      },
      "source": [
        "df.describe()"
      ],
      "execution_count": 4,
      "outputs": [
        {
          "output_type": "execute_result",
          "data": {
            "text/plain": [
              "count    604.000000\n",
              "mean     215.935430\n",
              "std       75.050304\n",
              "min       51.000000\n",
              "25%      171.000000\n",
              "50%      214.000000\n",
              "75%      261.250000\n",
              "max      591.000000\n",
              "Name: unidades, dtype: float64"
            ]
          },
          "metadata": {},
          "execution_count": 4
        }
      ]
    },
    {
      "cell_type": "code",
      "metadata": {
        "colab": {
          "base_uri": "https://localhost:8080/"
        },
        "id": "JHJCKmTxI81H",
        "outputId": "cefbfa06-85ef-419c-da5e-968227d6bba5"
      },
      "source": [
        "print(df.index.min())\n",
        "print(df.index.max())"
      ],
      "execution_count": 5,
      "outputs": [
        {
          "output_type": "stream",
          "name": "stdout",
          "text": [
            "2017-01-02 00:00:00\n",
            "2018-11-30 00:00:00\n"
          ]
        }
      ]
    },
    {
      "cell_type": "code",
      "metadata": {
        "colab": {
          "base_uri": "https://localhost:8080/"
        },
        "id": "WIPc-pkOI81H",
        "outputId": "3f42d874-4f1c-4fdf-bc36-bf89316c185f"
      },
      "source": [
        "print(len(df['2017']))\n",
        "print(len(df['2018']))"
      ],
      "execution_count": 6,
      "outputs": [
        {
          "output_type": "stream",
          "name": "stdout",
          "text": [
            "315\n",
            "289\n"
          ]
        }
      ]
    },
    {
      "cell_type": "code",
      "metadata": {
        "colab": {
          "base_uri": "https://localhost:8080/"
        },
        "id": "VgAgEOy5I81H",
        "outputId": "1d7127b5-45d0-47a5-f6d6-be268eb681c1"
      },
      "source": [
        "meses =df.resample('M').mean()\n",
        "meses"
      ],
      "execution_count": 7,
      "outputs": [
        {
          "output_type": "execute_result",
          "data": {
            "text/plain": [
              "fecha\n",
              "2017-01-31    203.923077\n",
              "2017-02-28    184.666667\n",
              "2017-03-31    182.964286\n",
              "2017-04-30    198.960000\n",
              "2017-05-31    201.185185\n",
              "2017-06-30    209.518519\n",
              "2017-07-31    278.923077\n",
              "2017-08-31    316.000000\n",
              "2017-09-30    222.925926\n",
              "2017-10-31    207.851852\n",
              "2017-11-30    185.925926\n",
              "2017-12-31    213.200000\n",
              "2018-01-31    201.384615\n",
              "2018-02-28    190.625000\n",
              "2018-03-31    174.846154\n",
              "2018-04-30    186.000000\n",
              "2018-05-31    190.666667\n",
              "2018-06-30    196.037037\n",
              "2018-07-31    289.500000\n",
              "2018-08-31    309.038462\n",
              "2018-09-30    230.518519\n",
              "2018-10-31    209.444444\n",
              "2018-11-30    184.481481\n",
              "Freq: M, Name: unidades, dtype: float64"
            ]
          },
          "metadata": {},
          "execution_count": 7
        }
      ]
    },
    {
      "cell_type": "markdown",
      "metadata": {
        "id": "SmDnKCjtI81H"
      },
      "source": [
        "**Visualizaciones**"
      ]
    },
    {
      "cell_type": "code",
      "metadata": {
        "colab": {
          "base_uri": "https://localhost:8080/",
          "height": 282
        },
        "id": "cf6-AkBeI81I",
        "outputId": "1b1109a3-02fe-457f-99c0-5aba3509b4aa"
      },
      "source": [
        "\n",
        "plt.plot(meses['2017'].values)\n",
        "plt.plot(meses['2018'].values)"
      ],
      "execution_count": 8,
      "outputs": [
        {
          "output_type": "execute_result",
          "data": {
            "text/plain": [
              "[<matplotlib.lines.Line2D at 0x7f5313768d50>]"
            ]
          },
          "metadata": {},
          "execution_count": 8
        },
        {
          "output_type": "display_data",
          "data": {
            "text/plain": [
              "<Figure size 432x288 with 1 Axes>"
            ],
            "image/png": "[encoded data removed]"
          },
          "metadata": {
            "needs_background": "light"
          }
        }
      ]
    },
    {
      "cell_type": "code",
      "metadata": {
        "colab": {
          "base_uri": "https://localhost:8080/",
          "height": 282
        },
        "id": "P_4GbH_tI81I",
        "outputId": "d898e080-7f29-4ac3-e0a0-91c582a2e5f0"
      },
      "source": [
        "\n",
        "verano2017 = df['2017-06-01':'2017-09-01']\n",
        "plt.plot(verano2017.values)\n",
        "verano2018 = df['2018-06-01':'2018-09-01']\n",
        "plt.plot(verano2018.values)"
      ],
      "execution_count": 9,
      "outputs": [
        {
          "output_type": "execute_result",
          "data": {
            "text/plain": [
              "[<matplotlib.lines.Line2D at 0x7f531325ded0>]"
            ]
          },
          "metadata": {},
          "execution_count": 9
        },
        {
          "output_type": "display_data",
          "data": {
            "text/plain": [
              "<Figure size 432x288 with 1 Axes>"
            ],
            "image/png": "[encoded data removed]"
          },
          "metadata": {
            "needs_background": "light"
          }
        }
      ]
    },
    {
      "cell_type": "code",
      "metadata": {
        "colab": {
          "base_uri": "https://localhost:8080/",
          "height": 206
        },
        "id": "x2SnUB-vI81I",
        "outputId": "f0e8b2d7-854d-493b-a74b-658c42223452"
      },
      "source": [
        "PASOS=7\n",
        "\n",
        "# convert series to supervised learning\n",
        "def series_to_supervised(data, n_in=1, n_out=1, dropnan=True):\n",
        "    n_vars = 1 if type(data) is list else data.shape[1]\n",
        "    df = pd.DataFrame(data)\n",
        "    cols, names = list(), list()\n",
        "    # input sequence (t-n, ... t-1)\n",
        "    for i in range(n_in, 0, -1):\n",
        "        cols.append(df.shift(i))\n",
        "        names += [('var%d(t-%d)' % (j+1, i)) for j in range(n_vars)]\n",
        "    # forecast sequence (t, t+1, ... t+n)\n",
        "    for i in range(0, n_out):\n",
        "        cols.append(df.shift(-i))\n",
        "        if i == 0:\n",
        "            names += [('var%d(t)' % (j+1)) for j in range(n_vars)]\n",
        "        else:\n",
        "            names += [('var%d(t+%d)' % (j+1, i)) for j in range(n_vars)]\n",
        "    # put it all together\n",
        "    agg = pd.concat(cols, axis=1)\n",
        "    agg.columns = names\n",
        "    # drop rows with NaN values\n",
        "    if dropnan:\n",
        "        agg.dropna(inplace=True)\n",
        "    return agg\n",
        " \n",
        "# load dataset\n",
        "values = df.values\n",
        "# ensure all data is float\n",
        "values = values.astype('float32')\n",
        "# normalize features\n",
        "scaler = MinMaxScaler(feature_range=(-1, 1))\n",
        "values=values.reshape(-1, 1) # esto lo hacemos porque tenemos 1 sola dimension\n",
        "scaled = scaler.fit_transform(values)\n",
        "# frame as supervised learning\n",
        "reframed = series_to_supervised(scaled, PASOS, 1)\n",
        "reframed.head()"
      ],
      "execution_count": 10,
      "outputs": [
        {
          "output_type": "execute_result",
          "data": {
            "text/plain": [
              "    var1(t-7)  var1(t-6)  var1(t-5)  var1(t-4)  var1(t-3)  var1(t-2)  \\\n",
              "7   -0.314815  -0.311111  -0.114815  -0.370370  -0.714815  -0.103704   \n",
              "8   -0.311111  -0.114815  -0.370370  -0.714815  -0.103704  -0.225926   \n",
              "9   -0.114815  -0.370370  -0.714815  -0.103704  -0.225926  -0.433333   \n",
              "10  -0.370370  -0.714815  -0.103704  -0.225926  -0.433333  -0.607407   \n",
              "11  -0.714815  -0.103704  -0.225926  -0.433333  -0.607407  -0.522222   \n",
              "\n",
              "    var1(t-1)   var1(t)  \n",
              "7   -0.225926 -0.433333  \n",
              "8   -0.433333 -0.607407  \n",
              "9   -0.607407 -0.522222  \n",
              "10  -0.522222 -0.644444  \n",
              "11  -0.644444 -0.344444  "
            ],
            "text/html": [
              "\n",
              "  <div id=\"df-c21f11f0-c601-436d-a253-718753090615\">\n",
              "    <div class=\"colab-df-container\">\n",
              "      <div>\n",
              "<style scoped>\n",
              "    .dataframe tbody tr th:only-of-type {\n",
              "        vertical-align: middle;\n",
              "    }\n",
              "\n",
              "    .dataframe tbody tr th {\n",
              "        vertical-align: top;\n",
              "    }\n",
              "\n",
              "    .dataframe thead th {\n",
              "        text-align: right;\n",
              "    }\n",
              "</style>\n",
              "<table border=\"1\" class=\"dataframe\">\n",
              "  <thead>\n",
              "    <tr style=\"text-align: right;\">\n",
              "      <th></th>\n",
              "      <th>var1(t-7)</th>\n",
              "      <th>var1(t-6)</th>\n",
              "      <th>var1(t-5)</th>\n",
              "      <th>var1(t-4)</th>\n",
              "      <th>var1(t-3)</th>\n",
              "      <th>var1(t-2)</th>\n",
              "      <th>var1(t-1)</th>\n",
              "      <th>var1(t)</th>\n",
              "    </tr>\n",
              "  </thead>\n",
              "  <tbody>\n",
              "    <tr>\n",
              "      <th>7</th>\n",
              "      <td>-0.314815</td>\n",
              "      <td>-0.311111</td>\n",
              "      <td>-0.114815</td>\n",
              "      <td>-0.370370</td>\n",
              "      <td>-0.714815</td>\n",
              "      <td>-0.103704</td>\n",
              "      <td>-0.225926</td>\n",
              "      <td>-0.433333</td>\n",
              "    </tr>\n",
              "    <tr>\n",
              "      <th>8</th>\n",
              "      <td>-0.311111</td>\n",
              "      <td>-0.114815</td>\n",
              "      <td>-0.370370</td>\n",
              "      <td>-0.714815</td>\n",
              "      <td>-0.103704</td>\n",
              "      <td>-0.225926</td>\n",
              "      <td>-0.433333</td>\n",
              "      <td>-0.607407</td>\n",
              "    </tr>\n",
              "    <tr>\n",
              "      <th>9</th>\n",
              "      <td>-0.114815</td>\n",
              "      <td>-0.370370</td>\n",
              "      <td>-0.714815</td>\n",
              "      <td>-0.103704</td>\n",
              "      <td>-0.225926</td>\n",
              "      <td>-0.433333</td>\n",
              "      <td>-0.607407</td>\n",
              "      <td>-0.522222</td>\n",
              "    </tr>\n",
              "    <tr>\n",
              "      <th>10</th>\n",
              "      <td>-0.370370</td>\n",
              "      <td>-0.714815</td>\n",
              "      <td>-0.103704</td>\n",
              "      <td>-0.225926</td>\n",
              "      <td>-0.433333</td>\n",
              "      <td>-0.607407</td>\n",
              "      <td>-0.522222</td>\n",
              "      <td>-0.644444</td>\n",
              "    </tr>\n",
              "    <tr>\n",
              "      <th>11</th>\n",
              "      <td>-0.714815</td>\n",
              "      <td>-0.103704</td>\n",
              "      <td>-0.225926</td>\n",
              "      <td>-0.433333</td>\n",
              "      <td>-0.607407</td>\n",
              "      <td>-0.522222</td>\n",
              "      <td>-0.644444</td>\n",
              "      <td>-0.344444</td>\n",
              "    </tr>\n",
              "  </tbody>\n",
              "</table>\n",
              "</div>\n",
              "      <button class=\"colab-df-convert\" onclick=\"convertToInteractive('df-c21f11f0-c601-436d-a253-718753090615')\"\n",
              "              title=\"Convert this dataframe to an interactive table.\"\n",
              "              style=\"display:none;\">\n",
              "        \n",
              "  <svg xmlns=\"http://www.w3.org/2000/svg\" height=\"24px\"viewBox=\"0 0 24 24\"\n",
              "       width=\"24px\">\n",
              "    <path d=\"M0 0h24v24H0V0z\" fill=\"none\"/>\n",
              "    <path d=\"M18.56 5.44l.94 2.06.94-2.06 2.06-.94-2.06-.94-.94-2.06-.94 2.06-2.06.94zm-11 1L8.5 8.5l.94-2.06 2.06-.94-2.06-.94L8.5 2.5l-.94 2.06-2.06.94zm10 10l.94 2.06.94-2.06 2.06-.94-2.06-.94-.94-2.06-.94 2.06-2.06.94z\"/><path d=\"M17.41 7.96l-1.37-1.37c-.4-.4-.92-.59-1.43-.59-.52 0-1.04.2-1.43.59L10.3 9.45l-7.72 7.72c-.78.78-.78 2.05 0 2.83L4 21.41c.39.39.9.59 1.41.59.51 0 1.02-.2 1.41-.59l7.78-7.78 2.81-2.81c.8-.78.8-2.07 0-2.86zM5.41 20L4 18.59l7.72-7.72 1.47 1.35L5.41 20z\"/>\n",
              "  </svg>\n",
              "      </button>\n",
              "      \n",
              "  <style>\n",
              "    .colab-df-container {\n",
              "      display:flex;\n",
              "      flex-wrap:wrap;\n",
              "      gap: 12px;\n",
              "    }\n",
              "\n",
              "    .colab-df-convert {\n",
              "      background-color: #E8F0FE;\n",
              "      border: none;\n",
              "      border-radius: 50%;\n",
              "      cursor: pointer;\n",
              "      display: none;\n",
              "      fill: #1967D2;\n",
              "      height: 32px;\n",
              "      padding: 0 0 0 0;\n",
              "      width: 32px;\n",
              "    }\n",
              "\n",
              "    .colab-df-convert:hover {\n",
              "      background-color: #E2EBFA;\n",
              "      box-shadow: 0px 1px 2px rgba(60, 64, 67, 0.3), 0px 1px 3px 1px rgba(60, 64, 67, 0.15);\n",
              "      fill: #174EA6;\n",
              "    }\n",
              "\n",
              "    [theme=dark] .colab-df-convert {\n",
              "      background-color: #3B4455;\n",
              "      fill: #D2E3FC;\n",
              "    }\n",
              "\n",
              "    [theme=dark] .colab-df-convert:hover {\n",
              "      background-color: #434B5C;\n",
              "      box-shadow: 0px 1px 3px 1px rgba(0, 0, 0, 0.15);\n",
              "      filter: drop-shadow(0px 1px 2px rgba(0, 0, 0, 0.3));\n",
              "      fill: #FFFFFF;\n",
              "    }\n",
              "  </style>\n",
              "\n",
              "      <script>\n",
              "        const buttonEl =\n",
              "          document.querySelector('#df-c21f11f0-c601-436d-a253-718753090615 button.colab-df-convert');\n",
              "        buttonEl.style.display =\n",
              "          google.colab.kernel.accessAllowed ? 'block' : 'none';\n",
              "\n",
              "        async function convertToInteractive(key) {\n",
              "          const element = document.querySelector('#df-c21f11f0-c601-436d-a253-718753090615');\n",
              "          const dataTable =\n",
              "            await google.colab.kernel.invokeFunction('convertToInteractive',\n",
              "                                                     [key], {});\n",
              "          if (!dataTable) return;\n",
              "\n",
              "          const docLinkHtml = 'Like what you see? Visit the ' +\n",
              "            '<a target=\"_blank\" href=https://colab.research.google.com/notebooks/data_table.ipynb>data table notebook</a>'\n",
              "            + ' to learn more about interactive tables.';\n",
              "          element.innerHTML = '';\n",
              "          dataTable['output_type'] = 'display_data';\n",
              "          await google.colab.output.renderOutput(dataTable, element);\n",
              "          const docLink = document.createElement('div');\n",
              "          docLink.innerHTML = docLinkHtml;\n",
              "          element.appendChild(docLink);\n",
              "        }\n",
              "      </script>\n",
              "    </div>\n",
              "  </div>\n",
              "  "
            ]
          },
          "metadata": {},
          "execution_count": 10
        }
      ]
    },
    {
      "cell_type": "markdown",
      "metadata": {
        "id": "VTwiSIyxI81J"
      },
      "source": [
        "\n",
        "Dividimos en set de Entrenamiento y Validación"
      ]
    },
    {
      "cell_type": "code",
      "metadata": {
        "colab": {
          "base_uri": "https://localhost:8080/"
        },
        "id": "wyh9zxCDI81J",
        "outputId": "240a9748-ba31-4d92-b2dd-d7e8959119b6"
      },
      "source": [
        "# split into train and test sets\n",
        "values = reframed.values\n",
        "n_train_days = 315+289 - (30+PASOS)\n",
        "train = values[:n_train_days, :]\n",
        "test = values[n_train_days:, :]\n",
        "# split into input and outputs\n",
        "x_train, y_train = train[:, :-1], train[:, -1]\n",
        "x_val, y_val = test[:, :-1], test[:, -1]\n",
        "# reshape input to be 3D [samples, timesteps, features]\n",
        "x_train = x_train.reshape((x_train.shape[0], 1, x_train.shape[1]))\n",
        "x_val = x_val.reshape((x_val.shape[0], 1, x_val.shape[1]))\n",
        "print(x_train.shape, y_train.shape, x_val.shape, y_val.shape)"
      ],
      "execution_count": 11,
      "outputs": [
        {
          "output_type": "stream",
          "name": "stdout",
          "text": [
            "(567, 1, 7) (567,) (30, 1, 7) (30,)\n"
          ]
        }
      ]
    },
    {
      "cell_type": "markdown",
      "metadata": {
        "id": "dI9jro-BI81J"
      },
      "source": [
        "**Creamos el Modelo de Red Neuronal**\n",
        "\n",
        "**Utilizaremos una Red \"normal\" Feedforward**"
      ]
    },
    {
      "cell_type": "code",
      "metadata": {
        "id": "3sdNUGgPI81J"
      },
      "source": [
        "def crear_modeloFF():\n",
        "    model = Sequential() \n",
        "    model.add(Dense(PASOS, input_shape=(1,PASOS),activation='tanh'))\n",
        "    model.add(Flatten())\n",
        "    model.add(Dense(1, activation='tanh'))\n",
        "    model.compile(loss='mean_absolute_error',optimizer='Adam',metrics=[\"mse\"])\n",
        "    model.summary()\n",
        "    return model"
      ],
      "execution_count": 12,
      "outputs": []
    },
    {
      "cell_type": "markdown",
      "metadata": {
        "id": "DCaqQdTXI81K"
      },
      "source": [
        "**Entrenamos nuestra máquina**"
      ]
    },
    {
      "cell_type": "code",
      "metadata": {
        "colab": {
          "base_uri": "https://localhost:8080/"
        },
        "id": "qNSFiEuPI81K",
        "outputId": "7e616216-b566-4850-8279-0bb15bdd83af"
      },
      "source": [
        "EPOCHS=40\n",
        "\n",
        "model = crear_modeloFF()\n",
        "\n",
        "history=model.fit(x_train,y_train,epochs=EPOCHS,validation_data=(x_val,y_val),batch_size=PASOS)"
      ],
      "execution_count": 13,
      "outputs": [
        {
          "output_type": "stream",
          "name": "stdout",
          "text": [
            "Model: \"sequential\"\n",
            "_________________________________________________________________\n",
            " Layer (type)                Output Shape              Param #   \n",
            "=================================================================\n",
            " dense (Dense)               (None, 1, 7)              56        \n",
            "                                                                 \n",
            " flatten (Flatten)           (None, 7)                 0         \n",
            "                                                                 \n",
            " dense_1 (Dense)             (None, 1)                 8         \n",
            "                                                                 \n",
            "=================================================================\n",
            "Total params: 64\n",
            "Trainable params: 64\n",
            "Non-trainable params: 0\n",
            "_________________________________________________________________\n",
            "Epoch 1/40\n",
            "81/81 [==============================] - 1s 5ms/step - loss: 0.4096 - mse: 0.2628 - val_loss: 0.1599 - val_mse: 0.0481\n",
            "Epoch 2/40\n",
            "81/81 [==============================] - 0s 2ms/step - loss: 0.1940 - mse: 0.0670 - val_loss: 0.1381 - val_mse: 0.0372\n",
            "Epoch 3/40\n",
            "81/81 [==============================] - 0s 2ms/step - loss: 0.1868 - mse: 0.0629 - val_loss: 0.1357 - val_mse: 0.0359\n",
            "Epoch 4/40\n",
            "81/81 [==============================] - 0s 3ms/step - loss: 0.1809 - mse: 0.0600 - val_loss: 0.1382 - val_mse: 0.0366\n",
            "Epoch 5/40\n",
            "81/81 [==============================] - 0s 2ms/step - loss: 0.1772 - mse: 0.0584 - val_loss: 0.1373 - val_mse: 0.0357\n",
            "Epoch 6/40\n",
            "81/81 [==============================] - 0s 2ms/step - loss: 0.1742 - mse: 0.0568 - val_loss: 0.1355 - val_mse: 0.0346\n",
            "Epoch 7/40\n",
            "81/81 [==============================] - 0s 2ms/step - loss: 0.1719 - mse: 0.0558 - val_loss: 0.1352 - val_mse: 0.0343\n",
            "Epoch 8/40\n",
            "81/81 [==============================] - 0s 3ms/step - loss: 0.1711 - mse: 0.0553 - val_loss: 0.1324 - val_mse: 0.0334\n",
            "Epoch 9/40\n",
            "81/81 [==============================] - 0s 2ms/step - loss: 0.1694 - mse: 0.0547 - val_loss: 0.1325 - val_mse: 0.0335\n",
            "Epoch 10/40\n",
            "81/81 [==============================] - 0s 2ms/step - loss: 0.1690 - mse: 0.0546 - val_loss: 0.1373 - val_mse: 0.0350\n",
            "Epoch 11/40\n",
            "81/81 [==============================] - 0s 2ms/step - loss: 0.1691 - mse: 0.0555 - val_loss: 0.1328 - val_mse: 0.0336\n",
            "Epoch 12/40\n",
            "81/81 [==============================] - 0s 2ms/step - loss: 0.1691 - mse: 0.0551 - val_loss: 0.1341 - val_mse: 0.0338\n",
            "Epoch 13/40\n",
            "81/81 [==============================] - 0s 3ms/step - loss: 0.1682 - mse: 0.0549 - val_loss: 0.1333 - val_mse: 0.0329\n",
            "Epoch 14/40\n",
            "81/81 [==============================] - 0s 2ms/step - loss: 0.1674 - mse: 0.0548 - val_loss: 0.1341 - val_mse: 0.0326\n",
            "Epoch 15/40\n",
            "81/81 [==============================] - 0s 2ms/step - loss: 0.1682 - mse: 0.0550 - val_loss: 0.1333 - val_mse: 0.0327\n",
            "Epoch 16/40\n",
            "81/81 [==============================] - 0s 2ms/step - loss: 0.1678 - mse: 0.0550 - val_loss: 0.1338 - val_mse: 0.0334\n",
            "Epoch 17/40\n",
            "81/81 [==============================] - 0s 2ms/step - loss: 0.1678 - mse: 0.0551 - val_loss: 0.1366 - val_mse: 0.0346\n",
            "Epoch 18/40\n",
            "81/81 [==============================] - 0s 2ms/step - loss: 0.1679 - mse: 0.0552 - val_loss: 0.1352 - val_mse: 0.0341\n",
            "Epoch 19/40\n",
            "81/81 [==============================] - 0s 2ms/step - loss: 0.1674 - mse: 0.0548 - val_loss: 0.1346 - val_mse: 0.0338\n",
            "Epoch 20/40\n",
            "81/81 [==============================] - 0s 2ms/step - loss: 0.1671 - mse: 0.0549 - val_loss: 0.1338 - val_mse: 0.0329\n",
            "Epoch 21/40\n",
            "81/81 [==============================] - 0s 2ms/step - loss: 0.1669 - mse: 0.0549 - val_loss: 0.1345 - val_mse: 0.0328\n",
            "Epoch 22/40\n",
            "81/81 [==============================] - 0s 2ms/step - loss: 0.1669 - mse: 0.0549 - val_loss: 0.1343 - val_mse: 0.0332\n",
            "Epoch 23/40\n",
            "81/81 [==============================] - 0s 2ms/step - loss: 0.1674 - mse: 0.0551 - val_loss: 0.1342 - val_mse: 0.0333\n",
            "Epoch 24/40\n",
            "81/81 [==============================] - 0s 2ms/step - loss: 0.1673 - mse: 0.0548 - val_loss: 0.1339 - val_mse: 0.0330\n",
            "Epoch 25/40\n",
            "81/81 [==============================] - 0s 2ms/step - loss: 0.1672 - mse: 0.0551 - val_loss: 0.1336 - val_mse: 0.0327\n",
            "Epoch 26/40\n",
            "81/81 [==============================] - 0s 2ms/step - loss: 0.1667 - mse: 0.0544 - val_loss: 0.1339 - val_mse: 0.0334\n",
            "Epoch 27/40\n",
            "81/81 [==============================] - 0s 2ms/step - loss: 0.1671 - mse: 0.0546 - val_loss: 0.1338 - val_mse: 0.0333\n",
            "Epoch 28/40\n",
            "81/81 [==============================] - 0s 2ms/step - loss: 0.1675 - mse: 0.0549 - val_loss: 0.1345 - val_mse: 0.0338\n",
            "Epoch 29/40\n",
            "81/81 [==============================] - 0s 2ms/step - loss: 0.1668 - mse: 0.0545 - val_loss: 0.1350 - val_mse: 0.0341\n",
            "Epoch 30/40\n",
            "81/81 [==============================] - 0s 2ms/step - loss: 0.1671 - mse: 0.0545 - val_loss: 0.1339 - val_mse: 0.0331\n",
            "Epoch 31/40\n",
            "81/81 [==============================] - 0s 2ms/step - loss: 0.1671 - mse: 0.0549 - val_loss: 0.1341 - val_mse: 0.0335\n",
            "Epoch 32/40\n",
            "81/81 [==============================] - 0s 2ms/step - loss: 0.1678 - mse: 0.0546 - val_loss: 0.1348 - val_mse: 0.0339\n",
            "Epoch 33/40\n",
            "81/81 [==============================] - 0s 2ms/step - loss: 0.1666 - mse: 0.0544 - val_loss: 0.1358 - val_mse: 0.0343\n",
            "Epoch 34/40\n",
            "81/81 [==============================] - 0s 2ms/step - loss: 0.1668 - mse: 0.0548 - val_loss: 0.1342 - val_mse: 0.0338\n",
            "Epoch 35/40\n",
            "81/81 [==============================] - 0s 2ms/step - loss: 0.1669 - mse: 0.0545 - val_loss: 0.1333 - val_mse: 0.0333\n",
            "Epoch 36/40\n",
            "81/81 [==============================] - 0s 2ms/step - loss: 0.1661 - mse: 0.0542 - val_loss: 0.1363 - val_mse: 0.0329\n",
            "Epoch 37/40\n",
            "81/81 [==============================] - 0s 2ms/step - loss: 0.1666 - mse: 0.0536 - val_loss: 0.1331 - val_mse: 0.0333\n",
            "Epoch 38/40\n",
            "81/81 [==============================] - 0s 2ms/step - loss: 0.1657 - mse: 0.0543 - val_loss: 0.1330 - val_mse: 0.0331\n",
            "Epoch 39/40\n",
            "81/81 [==============================] - 0s 2ms/step - loss: 0.1669 - mse: 0.0543 - val_loss: 0.1329 - val_mse: 0.0330\n",
            "Epoch 40/40\n",
            "81/81 [==============================] - 0s 2ms/step - loss: 0.1659 - mse: 0.0539 - val_loss: 0.1333 - val_mse: 0.0329\n"
          ]
        }
      ]
    },
    {
      "cell_type": "markdown",
      "metadata": {
        "id": "uRY0rsNnI81K"
      },
      "source": [
        "**Visualizamos Resultados**"
      ]
    },
    {
      "cell_type": "code",
      "metadata": {
        "colab": {
          "base_uri": "https://localhost:8080/",
          "height": 298
        },
        "id": "UNJDsJLfI81K",
        "outputId": "f0a5fc89-49ac-4b71-8804-431f4f791e3e"
      },
      "source": [
        "\n",
        "results=model.predict(x_val)\n",
        "print( len(results) )\n",
        "plt.scatter(range(len(y_val)),y_val,c='g')\n",
        "plt.scatter(range(len(results)),results,c='r')\n",
        "plt.title('validate')\n",
        "plt.show()"
      ],
      "execution_count": 14,
      "outputs": [
        {
          "output_type": "stream",
          "name": "stdout",
          "text": [
            "30\n"
          ]
        },
        {
          "output_type": "display_data",
          "data": {
            "text/plain": [
              "<Figure size 432x288 with 1 Axes>"
            ],
            "image/png": "[encoded data removed]"
          },
          "metadata": {
            "needs_background": "light"
          }
        }
      ]
    },
    {
      "cell_type": "code",
      "metadata": {
        "colab": {
          "base_uri": "https://localhost:8080/",
          "height": 281
        },
        "id": "V-GFSUAEI81K",
        "outputId": "2be1b54a-72b2-4cc6-83c6-9aeb99e5eaa3"
      },
      "source": [
        "\n",
        "plt.plot(history.history['loss'])\n",
        "plt.title('loss')\n",
        "plt.plot(history.history['val_loss'])\n",
        "plt.title('validate loss')\n",
        "plt.show()"
      ],
      "execution_count": 15,
      "outputs": [
        {
          "output_type": "display_data",
          "data": {
            "text/plain": [
              "<Figure size 432x288 with 1 Axes>"
            ],
            "image/png": "[encoded data removed]"
          },
          "metadata": {
            "needs_background": "light"
          }
        }
      ]
    },
    {
      "cell_type": "code",
      "metadata": {
        "colab": {
          "base_uri": "https://localhost:8080/",
          "height": 206
        },
        "id": "KhgzI1PNI81L",
        "outputId": "df889f1f-02ae-47ab-fec1-8d7f4a3a11c9"
      },
      "source": [
        "\n",
        "compara = pd.DataFrame(np.array([y_val, [x[0] for x in results]])).transpose()\n",
        "compara.columns = ['real', 'prediccion']\n",
        "\n",
        "inverted = scaler.inverse_transform(compara.values)\n",
        "\n",
        "compara2 = pd.DataFrame(inverted)\n",
        "compara2.columns = ['real', 'prediccion']\n",
        "compara2['diferencia'] = compara2['real'] - compara2['prediccion']\n",
        "compara2.head()"
      ],
      "execution_count": 16,
      "outputs": [
        {
          "output_type": "execute_result",
          "data": {
            "text/plain": [
              "         real  prediccion  diferencia\n",
              "0  252.000000  218.198593   33.801407\n",
              "1  220.000000  203.481735   16.518265\n",
              "2  296.000000  196.444366   99.555634\n",
              "3   64.999992  192.930466 -127.930473\n",
              "4  213.000000  208.215942    4.784058"
            ],
            "text/html": [
              "\n",
              "  <div id=\"df-be551732-a992-40ec-aa3f-d3aa7deeed4b\">\n",
              "    <div class=\"colab-df-container\">\n",
              "      <div>\n",
              "<style scoped>\n",
              "    .dataframe tbody tr th:only-of-type {\n",
              "        vertical-align: middle;\n",
              "    }\n",
              "\n",
              "    .dataframe tbody tr th {\n",
              "        vertical-align: top;\n",
              "    }\n",
              "\n",
              "    .dataframe thead th {\n",
              "        text-align: right;\n",
              "    }\n",
              "</style>\n",
              "<table border=\"1\" class=\"dataframe\">\n",
              "  <thead>\n",
              "    <tr style=\"text-align: right;\">\n",
              "      <th></th>\n",
              "      <th>real</th>\n",
              "      <th>prediccion</th>\n",
              "      <th>diferencia</th>\n",
              "    </tr>\n",
              "  </thead>\n",
              "  <tbody>\n",
              "    <tr>\n",
              "      <th>0</th>\n",
              "      <td>252.000000</td>\n",
              "      <td>218.198593</td>\n",
              "      <td>33.801407</td>\n",
              "    </tr>\n",
              "    <tr>\n",
              "      <th>1</th>\n",
              "      <td>220.000000</td>\n",
              "      <td>203.481735</td>\n",
              "      <td>16.518265</td>\n",
              "    </tr>\n",
              "    <tr>\n",
              "      <th>2</th>\n",
              "      <td>296.000000</td>\n",
              "      <td>196.444366</td>\n",
              "      <td>99.555634</td>\n",
              "    </tr>\n",
              "    <tr>\n",
              "      <th>3</th>\n",
              "      <td>64.999992</td>\n",
              "      <td>192.930466</td>\n",
              "      <td>-127.930473</td>\n",
              "    </tr>\n",
              "    <tr>\n",
              "      <th>4</th>\n",
              "      <td>213.000000</td>\n",
              "      <td>208.215942</td>\n",
              "      <td>4.784058</td>\n",
              "    </tr>\n",
              "  </tbody>\n",
              "</table>\n",
              "</div>\n",
              "      <button class=\"colab-df-convert\" onclick=\"convertToInteractive('df-be551732-a992-40ec-aa3f-d3aa7deeed4b')\"\n",
              "              title=\"Convert this dataframe to an interactive table.\"\n",
              "              style=\"display:none;\">\n",
              "        \n",
              "  <svg xmlns=\"http://www.w3.org/2000/svg\" height=\"24px\"viewBox=\"0 0 24 24\"\n",
              "       width=\"24px\">\n",
              "    <path d=\"M0 0h24v24H0V0z\" fill=\"none\"/>\n",
              "    <path d=\"M18.56 5.44l.94 2.06.94-2.06 2.06-.94-2.06-.94-.94-2.06-.94 2.06-2.06.94zm-11 1L8.5 8.5l.94-2.06 2.06-.94-2.06-.94L8.5 2.5l-.94 2.06-2.06.94zm10 10l.94 2.06.94-2.06 2.06-.94-2.06-.94-.94-2.06-.94 2.06-2.06.94z\"/><path d=\"M17.41 7.96l-1.37-1.37c-.4-.4-.92-.59-1.43-.59-.52 0-1.04.2-1.43.59L10.3 9.45l-7.72 7.72c-.78.78-.78 2.05 0 2.83L4 21.41c.39.39.9.59 1.41.59.51 0 1.02-.2 1.41-.59l7.78-7.78 2.81-2.81c.8-.78.8-2.07 0-2.86zM5.41 20L4 18.59l7.72-7.72 1.47 1.35L5.41 20z\"/>\n",
              "  </svg>\n",
              "      </button>\n",
              "      \n",
              "  <style>\n",
              "    .colab-df-container {\n",
              "      display:flex;\n",
              "      flex-wrap:wrap;\n",
              "      gap: 12px;\n",
              "    }\n",
              "\n",
              "    .colab-df-convert {\n",
              "      background-color: #E8F0FE;\n",
              "      border: none;\n",
              "      border-radius: 50%;\n",
              "      cursor: pointer;\n",
              "      display: none;\n",
              "      fill: #1967D2;\n",
              "      height: 32px;\n",
              "      padding: 0 0 0 0;\n",
              "      width: 32px;\n",
              "    }\n",
              "\n",
              "    .colab-df-convert:hover {\n",
              "      background-color: #E2EBFA;\n",
              "      box-shadow: 0px 1px 2px rgba(60, 64, 67, 0.3), 0px 1px 3px 1px rgba(60, 64, 67, 0.15);\n",
              "      fill: #174EA6;\n",
              "    }\n",
              "\n",
              "    [theme=dark] .colab-df-convert {\n",
              "      background-color: #3B4455;\n",
              "      fill: #D2E3FC;\n",
              "    }\n",
              "\n",
              "    [theme=dark] .colab-df-convert:hover {\n",
              "      background-color: #434B5C;\n",
              "      box-shadow: 0px 1px 3px 1px rgba(0, 0, 0, 0.15);\n",
              "      filter: drop-shadow(0px 1px 2px rgba(0, 0, 0, 0.3));\n",
              "      fill: #FFFFFF;\n",
              "    }\n",
              "  </style>\n",
              "\n",
              "      <script>\n",
              "        const buttonEl =\n",
              "          document.querySelector('#df-be551732-a992-40ec-aa3f-d3aa7deeed4b button.colab-df-convert');\n",
              "        buttonEl.style.display =\n",
              "          google.colab.kernel.accessAllowed ? 'block' : 'none';\n",
              "\n",
              "        async function convertToInteractive(key) {\n",
              "          const element = document.querySelector('#df-be551732-a992-40ec-aa3f-d3aa7deeed4b');\n",
              "          const dataTable =\n",
              "            await google.colab.kernel.invokeFunction('convertToInteractive',\n",
              "                                                     [key], {});\n",
              "          if (!dataTable) return;\n",
              "\n",
              "          const docLinkHtml = 'Like what you see? Visit the ' +\n",
              "            '<a target=\"_blank\" href=https://colab.research.google.com/notebooks/data_table.ipynb>data table notebook</a>'\n",
              "            + ' to learn more about interactive tables.';\n",
              "          element.innerHTML = '';\n",
              "          dataTable['output_type'] = 'display_data';\n",
              "          await google.colab.output.renderOutput(dataTable, element);\n",
              "          const docLink = document.createElement('div');\n",
              "          docLink.innerHTML = docLinkHtml;\n",
              "          element.appendChild(docLink);\n",
              "        }\n",
              "      </script>\n",
              "    </div>\n",
              "  </div>\n",
              "  "
            ]
          },
          "metadata": {},
          "execution_count": 16
        }
      ]
    },
    {
      "cell_type": "code",
      "metadata": {
        "colab": {
          "base_uri": "https://localhost:8080/",
          "height": 300
        },
        "id": "ApoSHrH2I81L",
        "outputId": "d27e734c-4c99-47be-8984-70980b07c87c"
      },
      "source": [
        "\n",
        "compara2.describe()"
      ],
      "execution_count": 17,
      "outputs": [
        {
          "output_type": "execute_result",
          "data": {
            "text/plain": [
              "             real  prediccion  diferencia\n",
              "count   30.000000   30.000000   30.000000\n",
              "mean   191.633331  195.676376   -4.043046\n",
              "std     57.580818   24.368382   49.653046\n",
              "min     64.999992  143.393234 -127.930473\n",
              "25%    169.000000  186.017357  -22.023975\n",
              "50%    200.500000  195.968407    0.768845\n",
              "75%    220.000000  207.028561   30.967880\n",
              "max    296.000000  241.791489   99.555634"
            ],
            "text/html": [
              "\n",
              "  <div id=\"df-59921a23-8140-4200-9631-a09669fc767b\">\n",
              "    <div class=\"colab-df-container\">\n",
              "      <div>\n",
              "<style scoped>\n",
              "    .dataframe tbody tr th:only-of-type {\n",
              "        vertical-align: middle;\n",
              "    }\n",
              "\n",
              "    .dataframe tbody tr th {\n",
              "        vertical-align: top;\n",
              "    }\n",
              "\n",
              "    .dataframe thead th {\n",
              "        text-align: right;\n",
              "    }\n",
              "</style>\n",
              "<table border=\"1\" class=\"dataframe\">\n",
              "  <thead>\n",
              "    <tr style=\"text-align: right;\">\n",
              "      <th></th>\n",
              "      <th>real</th>\n",
              "      <th>prediccion</th>\n",
              "      <th>diferencia</th>\n",
              "    </tr>\n",
              "  </thead>\n",
              "  <tbody>\n",
              "    <tr>\n",
              "      <th>count</th>\n",
              "      <td>30.000000</td>\n",
              "      <td>30.000000</td>\n",
              "      <td>30.000000</td>\n",
              "    </tr>\n",
              "    <tr>\n",
              "      <th>mean</th>\n",
              "      <td>191.633331</td>\n",
              "      <td>195.676376</td>\n",
              "      <td>-4.043046</td>\n",
              "    </tr>\n",
              "    <tr>\n",
              "      <th>std</th>\n",
              "      <td>57.580818</td>\n",
              "      <td>24.368382</td>\n",
              "      <td>49.653046</td>\n",
              "    </tr>\n",
              "    <tr>\n",
              "      <th>min</th>\n",
              "      <td>64.999992</td>\n",
              "      <td>143.393234</td>\n",
              "      <td>-127.930473</td>\n",
              "    </tr>\n",
              "    <tr>\n",
              "      <th>25%</th>\n",
              "      <td>169.000000</td>\n",
              "      <td>186.017357</td>\n",
              "      <td>-22.023975</td>\n",
              "    </tr>\n",
              "    <tr>\n",
              "      <th>50%</th>\n",
              "      <td>200.500000</td>\n",
              "      <td>195.968407</td>\n",
              "      <td>0.768845</td>\n",
              "    </tr>\n",
              "    <tr>\n",
              "      <th>75%</th>\n",
              "      <td>220.000000</td>\n",
              "      <td>207.028561</td>\n",
              "      <td>30.967880</td>\n",
              "    </tr>\n",
              "    <tr>\n",
              "      <th>max</th>\n",
              "      <td>296.000000</td>\n",
              "      <td>241.791489</td>\n",
              "      <td>99.555634</td>\n",
              "    </tr>\n",
              "  </tbody>\n",
              "</table>\n",
              "</div>\n",
              "      <button class=\"colab-df-convert\" onclick=\"convertToInteractive('df-59921a23-8140-4200-9631-a09669fc767b')\"\n",
              "              title=\"Convert this dataframe to an interactive table.\"\n",
              "              style=\"display:none;\">\n",
              "        \n",
              "  <svg xmlns=\"http://www.w3.org/2000/svg\" height=\"24px\"viewBox=\"0 0 24 24\"\n",
              "       width=\"24px\">\n",
              "    <path d=\"M0 0h24v24H0V0z\" fill=\"none\"/>\n",
              "    <path d=\"M18.56 5.44l.94 2.06.94-2.06 2.06-.94-2.06-.94-.94-2.06-.94 2.06-2.06.94zm-11 1L8.5 8.5l.94-2.06 2.06-.94-2.06-.94L8.5 2.5l-.94 2.06-2.06.94zm10 10l.94 2.06.94-2.06 2.06-.94-2.06-.94-.94-2.06-.94 2.06-2.06.94z\"/><path d=\"M17.41 7.96l-1.37-1.37c-.4-.4-.92-.59-1.43-.59-.52 0-1.04.2-1.43.59L10.3 9.45l-7.72 7.72c-.78.78-.78 2.05 0 2.83L4 21.41c.39.39.9.59 1.41.59.51 0 1.02-.2 1.41-.59l7.78-7.78 2.81-2.81c.8-.78.8-2.07 0-2.86zM5.41 20L4 18.59l7.72-7.72 1.47 1.35L5.41 20z\"/>\n",
              "  </svg>\n",
              "      </button>\n",
              "      \n",
              "  <style>\n",
              "    .colab-df-container {\n",
              "      display:flex;\n",
              "      flex-wrap:wrap;\n",
              "      gap: 12px;\n",
              "    }\n",
              "\n",
              "    .colab-df-convert {\n",
              "      background-color: #E8F0FE;\n",
              "      border: none;\n",
              "      border-radius: 50%;\n",
              "      cursor: pointer;\n",
              "      display: none;\n",
              "      fill: #1967D2;\n",
              "      height: 32px;\n",
              "      padding: 0 0 0 0;\n",
              "      width: 32px;\n",
              "    }\n",
              "\n",
              "    .colab-df-convert:hover {\n",
              "      background-color: #E2EBFA;\n",
              "      box-shadow: 0px 1px 2px rgba(60, 64, 67, 0.3), 0px 1px 3px 1px rgba(60, 64, 67, 0.15);\n",
              "      fill: #174EA6;\n",
              "    }\n",
              "\n",
              "    [theme=dark] .colab-df-convert {\n",
              "      background-color: #3B4455;\n",
              "      fill: #D2E3FC;\n",
              "    }\n",
              "\n",
              "    [theme=dark] .colab-df-convert:hover {\n",
              "      background-color: #434B5C;\n",
              "      box-shadow: 0px 1px 3px 1px rgba(0, 0, 0, 0.15);\n",
              "      filter: drop-shadow(0px 1px 2px rgba(0, 0, 0, 0.3));\n",
              "      fill: #FFFFFF;\n",
              "    }\n",
              "  </style>\n",
              "\n",
              "      <script>\n",
              "        const buttonEl =\n",
              "          document.querySelector('#df-59921a23-8140-4200-9631-a09669fc767b button.colab-df-convert');\n",
              "        buttonEl.style.display =\n",
              "          google.colab.kernel.accessAllowed ? 'block' : 'none';\n",
              "\n",
              "        async function convertToInteractive(key) {\n",
              "          const element = document.querySelector('#df-59921a23-8140-4200-9631-a09669fc767b');\n",
              "          const dataTable =\n",
              "            await google.colab.kernel.invokeFunction('convertToInteractive',\n",
              "                                                     [key], {});\n",
              "          if (!dataTable) return;\n",
              "\n",
              "          const docLinkHtml = 'Like what you see? Visit the ' +\n",
              "            '<a target=\"_blank\" href=https://colab.research.google.com/notebooks/data_table.ipynb>data table notebook</a>'\n",
              "            + ' to learn more about interactive tables.';\n",
              "          element.innerHTML = '';\n",
              "          dataTable['output_type'] = 'display_data';\n",
              "          await google.colab.output.renderOutput(dataTable, element);\n",
              "          const docLink = document.createElement('div');\n",
              "          docLink.innerHTML = docLinkHtml;\n",
              "          element.appendChild(docLink);\n",
              "        }\n",
              "      </script>\n",
              "    </div>\n",
              "  </div>\n",
              "  "
            ]
          },
          "metadata": {},
          "execution_count": 17
        }
      ]
    },
    {
      "cell_type": "code",
      "metadata": {
        "colab": {
          "base_uri": "https://localhost:8080/",
          "height": 282
        },
        "id": "SbFrpLA8I81L",
        "outputId": "77fffaca-a9fa-414f-d621-f04d8f579f90"
      },
      "source": [
        "compara2['real'].plot()\n",
        "compara2['prediccion'].plot()"
      ],
      "execution_count": 18,
      "outputs": [
        {
          "output_type": "execute_result",
          "data": {
            "text/plain": [
              "<matplotlib.axes._subplots.AxesSubplot at 0x7f530f245fd0>"
            ]
          },
          "metadata": {},
          "execution_count": 18
        },
        {
          "output_type": "display_data",
          "data": {
            "text/plain": [
              "<Figure size 432x288 with 1 Axes>"
            ],
            "image/png": "[encoded data removed]"
          },
          "metadata": {
            "needs_background": "light"
          }
        }
      ]
    },
    {
      "cell_type": "markdown",
      "metadata": {
        "id": "pTSKvhC2I81L"
      },
      "source": [
        "**Prediccion**"
      ]
    },
    {
      "cell_type": "code",
      "metadata": {
        "colab": {
          "base_uri": "https://localhost:8080/"
        },
        "id": "oAUQ6NJYI81N",
        "outputId": "020f896a-950d-439e-b6b3-d348256d825e"
      },
      "source": [
        "\n",
        "ultimosDias = df['2018-11-16':'2018-11-30']\n",
        "ultimosDias"
      ],
      "execution_count": 19,
      "outputs": [
        {
          "output_type": "execute_result",
          "data": {
            "text/plain": [
              "fecha\n",
              "2018-11-16    152\n",
              "2018-11-17    111\n",
              "2018-11-19    207\n",
              "2018-11-20    206\n",
              "2018-11-21    183\n",
              "2018-11-22    200\n",
              "2018-11-23    187\n",
              "2018-11-24    189\n",
              "2018-11-25     76\n",
              "2018-11-26    276\n",
              "2018-11-27    220\n",
              "2018-11-28    183\n",
              "2018-11-29    251\n",
              "2018-11-30    189\n",
              "Name: unidades, dtype: int64"
            ]
          },
          "metadata": {},
          "execution_count": 19
        }
      ]
    },
    {
      "cell_type": "markdown",
      "metadata": {
        "id": "B29k2wtRI81N"
      },
      "source": [
        "**Preparamos los datos para Test**"
      ]
    },
    {
      "cell_type": "code",
      "metadata": {
        "colab": {
          "base_uri": "https://localhost:8080/",
          "height": 269
        },
        "id": "LDRFor2LI81N",
        "outputId": "bb7a08da-b9f2-49bd-bf0d-21303f581633"
      },
      "source": [
        "\n",
        "values = ultimosDias.values\n",
        "values = values.astype('float32')\n",
        "# normalize features\n",
        "values=values.reshape(-1, 1) # esto lo hacemos porque tenemos 1 sola dimension\n",
        "scaled = scaler.fit_transform(values)\n",
        "reframed = series_to_supervised(scaled, PASOS, 1)\n",
        "reframed.drop(reframed.columns[[7]], axis=1, inplace=True)\n",
        "reframed.head(7)"
      ],
      "execution_count": 20,
      "outputs": [
        {
          "output_type": "execute_result",
          "data": {
            "text/plain": [
              "    var1(t-7)  var1(t-6)  var1(t-5)  var1(t-4)  var1(t-3)  var1(t-2)  \\\n",
              "7       -0.24      -0.65       0.31       0.30       0.07       0.24   \n",
              "8       -0.65       0.31       0.30       0.07       0.24       0.11   \n",
              "9        0.31       0.30       0.07       0.24       0.11       0.13   \n",
              "10       0.30       0.07       0.24       0.11       0.13      -1.00   \n",
              "11       0.07       0.24       0.11       0.13      -1.00       1.00   \n",
              "12       0.24       0.11       0.13      -1.00       1.00       0.44   \n",
              "13       0.11       0.13      -1.00       1.00       0.44       0.07   \n",
              "\n",
              "    var1(t-1)  \n",
              "7        0.11  \n",
              "8        0.13  \n",
              "9       -1.00  \n",
              "10       1.00  \n",
              "11       0.44  \n",
              "12       0.07  \n",
              "13       0.75  "
            ],
            "text/html": [
              "\n",
              "  <div id=\"df-f37d313f-64f8-4896-9ffa-1e2b4fe27136\">\n",
              "    <div class=\"colab-df-container\">\n",
              "      <div>\n",
              "<style scoped>\n",
              "    .dataframe tbody tr th:only-of-type {\n",
              "        vertical-align: middle;\n",
              "    }\n",
              "\n",
              "    .dataframe tbody tr th {\n",
              "        vertical-align: top;\n",
              "    }\n",
              "\n",
              "    .dataframe thead th {\n",
              "        text-align: right;\n",
              "    }\n",
              "</style>\n",
              "<table border=\"1\" class=\"dataframe\">\n",
              "  <thead>\n",
              "    <tr style=\"text-align: right;\">\n",
              "      <th></th>\n",
              "      <th>var1(t-7)</th>\n",
              "      <th>var1(t-6)</th>\n",
              "      <th>var1(t-5)</th>\n",
              "      <th>var1(t-4)</th>\n",
              "      <th>var1(t-3)</th>\n",
              "      <th>var1(t-2)</th>\n",
              "      <th>var1(t-1)</th>\n",
              "    </tr>\n",
              "  </thead>\n",
              "  <tbody>\n",
              "    <tr>\n",
              "      <th>7</th>\n",
              "      <td>-0.24</td>\n",
              "      <td>-0.65</td>\n",
              "      <td>0.31</td>\n",
              "      <td>0.30</td>\n",
              "      <td>0.07</td>\n",
              "      <td>0.24</td>\n",
              "      <td>0.11</td>\n",
              "    </tr>\n",
              "    <tr>\n",
              "      <th>8</th>\n",
              "      <td>-0.65</td>\n",
              "      <td>0.31</td>\n",
              "      <td>0.30</td>\n",
              "      <td>0.07</td>\n",
              "      <td>0.24</td>\n",
              "      <td>0.11</td>\n",
              "      <td>0.13</td>\n",
              "    </tr>\n",
              "    <tr>\n",
              "      <th>9</th>\n",
              "      <td>0.31</td>\n",
              "      <td>0.30</td>\n",
              "      <td>0.07</td>\n",
              "      <td>0.24</td>\n",
              "      <td>0.11</td>\n",
              "      <td>0.13</td>\n",
              "      <td>-1.00</td>\n",
              "    </tr>\n",
              "    <tr>\n",
              "      <th>10</th>\n",
              "      <td>0.30</td>\n",
              "      <td>0.07</td>\n",
              "      <td>0.24</td>\n",
              "      <td>0.11</td>\n",
              "      <td>0.13</td>\n",
              "      <td>-1.00</td>\n",
              "      <td>1.00</td>\n",
              "    </tr>\n",
              "    <tr>\n",
              "      <th>11</th>\n",
              "      <td>0.07</td>\n",
              "      <td>0.24</td>\n",
              "      <td>0.11</td>\n",
              "      <td>0.13</td>\n",
              "      <td>-1.00</td>\n",
              "      <td>1.00</td>\n",
              "      <td>0.44</td>\n",
              "    </tr>\n",
              "    <tr>\n",
              "      <th>12</th>\n",
              "      <td>0.24</td>\n",
              "      <td>0.11</td>\n",
              "      <td>0.13</td>\n",
              "      <td>-1.00</td>\n",
              "      <td>1.00</td>\n",
              "      <td>0.44</td>\n",
              "      <td>0.07</td>\n",
              "    </tr>\n",
              "    <tr>\n",
              "      <th>13</th>\n",
              "      <td>0.11</td>\n",
              "      <td>0.13</td>\n",
              "      <td>-1.00</td>\n",
              "      <td>1.00</td>\n",
              "      <td>0.44</td>\n",
              "      <td>0.07</td>\n",
              "      <td>0.75</td>\n",
              "    </tr>\n",
              "  </tbody>\n",
              "</table>\n",
              "</div>\n",
              "      <button class=\"colab-df-convert\" onclick=\"convertToInteractive('df-f37d313f-64f8-4896-9ffa-1e2b4fe27136')\"\n",
              "              title=\"Convert this dataframe to an interactive table.\"\n",
              "              style=\"display:none;\">\n",
              "        \n",
              "  <svg xmlns=\"http://www.w3.org/2000/svg\" height=\"24px\"viewBox=\"0 0 24 24\"\n",
              "       width=\"24px\">\n",
              "    <path d=\"M0 0h24v24H0V0z\" fill=\"none\"/>\n",
              "    <path d=\"M18.56 5.44l.94 2.06.94-2.06 2.06-.94-2.06-.94-.94-2.06-.94 2.06-2.06.94zm-11 1L8.5 8.5l.94-2.06 2.06-.94-2.06-.94L8.5 2.5l-.94 2.06-2.06.94zm10 10l.94 2.06.94-2.06 2.06-.94-2.06-.94-.94-2.06-.94 2.06-2.06.94z\"/><path d=\"M17.41 7.96l-1.37-1.37c-.4-.4-.92-.59-1.43-.59-.52 0-1.04.2-1.43.59L10.3 9.45l-7.72 7.72c-.78.78-.78 2.05 0 2.83L4 21.41c.39.39.9.59 1.41.59.51 0 1.02-.2 1.41-.59l7.78-7.78 2.81-2.81c.8-.78.8-2.07 0-2.86zM5.41 20L4 18.59l7.72-7.72 1.47 1.35L5.41 20z\"/>\n",
              "  </svg>\n",
              "      </button>\n",
              "      \n",
              "  <style>\n",
              "    .colab-df-container {\n",
              "      display:flex;\n",
              "      flex-wrap:wrap;\n",
              "      gap: 12px;\n",
              "    }\n",
              "\n",
              "    .colab-df-convert {\n",
              "      background-color: #E8F0FE;\n",
              "      border: none;\n",
              "      border-radius: 50%;\n",
              "      cursor: pointer;\n",
              "      display: none;\n",
              "      fill: #1967D2;\n",
              "      height: 32px;\n",
              "      padding: 0 0 0 0;\n",
              "      width: 32px;\n",
              "    }\n",
              "\n",
              "    .colab-df-convert:hover {\n",
              "      background-color: #E2EBFA;\n",
              "      box-shadow: 0px 1px 2px rgba(60, 64, 67, 0.3), 0px 1px 3px 1px rgba(60, 64, 67, 0.15);\n",
              "      fill: #174EA6;\n",
              "    }\n",
              "\n",
              "    [theme=dark] .colab-df-convert {\n",
              "      background-color: #3B4455;\n",
              "      fill: #D2E3FC;\n",
              "    }\n",
              "\n",
              "    [theme=dark] .colab-df-convert:hover {\n",
              "      background-color: #434B5C;\n",
              "      box-shadow: 0px 1px 3px 1px rgba(0, 0, 0, 0.15);\n",
              "      filter: drop-shadow(0px 1px 2px rgba(0, 0, 0, 0.3));\n",
              "      fill: #FFFFFF;\n",
              "    }\n",
              "  </style>\n",
              "\n",
              "      <script>\n",
              "        const buttonEl =\n",
              "          document.querySelector('#df-f37d313f-64f8-4896-9ffa-1e2b4fe27136 button.colab-df-convert');\n",
              "        buttonEl.style.display =\n",
              "          google.colab.kernel.accessAllowed ? 'block' : 'none';\n",
              "\n",
              "        async function convertToInteractive(key) {\n",
              "          const element = document.querySelector('#df-f37d313f-64f8-4896-9ffa-1e2b4fe27136');\n",
              "          const dataTable =\n",
              "            await google.colab.kernel.invokeFunction('convertToInteractive',\n",
              "                                                     [key], {});\n",
              "          if (!dataTable) return;\n",
              "\n",
              "          const docLinkHtml = 'Like what you see? Visit the ' +\n",
              "            '<a target=\"_blank\" href=https://colab.research.google.com/notebooks/data_table.ipynb>data table notebook</a>'\n",
              "            + ' to learn more about interactive tables.';\n",
              "          element.innerHTML = '';\n",
              "          dataTable['output_type'] = 'display_data';\n",
              "          await google.colab.output.renderOutput(dataTable, element);\n",
              "          const docLink = document.createElement('div');\n",
              "          docLink.innerHTML = docLinkHtml;\n",
              "          element.appendChild(docLink);\n",
              "        }\n",
              "      </script>\n",
              "    </div>\n",
              "  </div>\n",
              "  "
            ]
          },
          "metadata": {},
          "execution_count": 20
        }
      ]
    },
    {
      "cell_type": "code",
      "metadata": {
        "colab": {
          "base_uri": "https://localhost:8080/"
        },
        "id": "Df4Zt-YYI81N",
        "outputId": "e5242ada-3631-4f82-8edb-58d228a89972"
      },
      "source": [
        "values = reframed.values\n",
        "x_test = values[6:, :]\n",
        "x_test = x_test.reshape((x_test.shape[0], 1, x_test.shape[1]))\n",
        "print(x_test.shape)\n",
        "x_test"
      ],
      "execution_count": 21,
      "outputs": [
        {
          "output_type": "stream",
          "name": "stdout",
          "text": [
            "(1, 1, 7)\n"
          ]
        },
        {
          "output_type": "execute_result",
          "data": {
            "text/plain": [
              "array([[[ 0.11000001,  0.13      , -1.        ,  1.        ,\n",
              "          0.44000006,  0.06999993,  0.75      ]]], dtype=float32)"
            ]
          },
          "metadata": {},
          "execution_count": 21
        }
      ]
    },
    {
      "cell_type": "code",
      "metadata": {
        "id": "qqm0afKXI81N"
      },
      "source": [
        "\n",
        "def agregarNuevoValor(x_test,nuevoValor):\n",
        "    for i in range(x_test.shape[2]-1):\n",
        "        x_test[0][0][i] = x_test[0][0][i+1]\n",
        "    x_test[0][0][x_test.shape[2]-1]=nuevoValor\n",
        "    return x_test"
      ],
      "execution_count": 22,
      "outputs": []
    },
    {
      "cell_type": "markdown",
      "metadata": {
        "id": "T9YhZDsqI81O"
      },
      "source": [
        "\n",
        "**Pronóstico para la \"próxima semana**"
      ]
    },
    {
      "cell_type": "code",
      "metadata": {
        "colab": {
          "base_uri": "https://localhost:8080/"
        },
        "id": "EF-hQ1feI81O",
        "outputId": "86064435-f39a-484f-91c7-805968a8bc1a"
      },
      "source": [
        "\n",
        "results=[]\n",
        "for i in range(7):\n",
        "    parcial=model.predict(x_test)\n",
        "    results.append(parcial[0])\n",
        "    print(x_test)\n",
        "    x_test=agregarNuevoValor(x_test,parcial[0])"
      ],
      "execution_count": 23,
      "outputs": [
        {
          "output_type": "stream",
          "name": "stdout",
          "text": [
            "[[[ 0.11000001  0.13       -1.          1.          0.44000006\n",
            "    0.06999993  0.75      ]]]\n",
            "[[[ 0.13       -1.          1.          0.44000006  0.06999993\n",
            "    0.75        0.0936249 ]]]\n",
            "[[[-1.          1.          0.44000006  0.06999993  0.75\n",
            "    0.0936249  -0.14384732]]]\n",
            "[[[ 1.          0.44000006  0.06999993  0.75        0.0936249\n",
            "   -0.14384732  0.37571594]]]\n",
            "[[[ 0.44000006  0.06999993  0.75        0.0936249  -0.14384732\n",
            "    0.37571594  0.4502542 ]]]\n",
            "[[[ 0.06999993  0.75        0.0936249  -0.14384732  0.37571594\n",
            "    0.4502542   0.10995693]]]\n",
            "[[[ 0.75        0.0936249  -0.14384732  0.37571594  0.4502542\n",
            "    0.10995693  0.37404963]]]\n"
          ]
        }
      ]
    },
    {
      "cell_type": "code",
      "metadata": {
        "colab": {
          "base_uri": "https://localhost:8080/"
        },
        "id": "p5u4zOp8I81O",
        "outputId": "44a1b4d6-40d1-40c0-f4d0-6b46e916ef95"
      },
      "source": [
        "adimen = [x for x in results]    \n",
        "print(adimen)\n",
        "inverted = scaler.inverse_transform(adimen)\n",
        "inverted"
      ],
      "execution_count": 24,
      "outputs": [
        {
          "output_type": "stream",
          "name": "stdout",
          "text": [
            "[array([0.0936249], dtype=float32), array([-0.14384732], dtype=float32), array([0.37571594], dtype=float32), array([0.4502542], dtype=float32), array([0.10995693], dtype=float32), array([0.37404963], dtype=float32), array([0.13290238], dtype=float32)]\n"
          ]
        },
        {
          "output_type": "execute_result",
          "data": {
            "text/plain": [
              "array([[185.36249366],\n",
              "       [161.61527101],\n",
              "       [213.57159794],\n",
              "       [221.02542418],\n",
              "       [186.99569599],\n",
              "       [213.40496719],\n",
              "       [189.29024166]])"
            ]
          },
          "metadata": {},
          "execution_count": 24
        }
      ]
    },
    {
      "cell_type": "code",
      "metadata": {
        "colab": {
          "base_uri": "https://localhost:8080/",
          "height": 265
        },
        "id": "8dziHkRUI81O",
        "outputId": "7c9bb2dc-0b32-49b4-9aec-a7215005b65b"
      },
      "source": [
        "\n",
        "prediccion1SemanaDiciembre = pd.DataFrame(inverted)\n",
        "prediccion1SemanaDiciembre.columns = ['pronostico']\n",
        "prediccion1SemanaDiciembre.plot()\n",
        "prediccion1SemanaDiciembre.to_csv('pronostico.csv')"
      ],
      "execution_count": 25,
      "outputs": [
        {
          "output_type": "display_data",
          "data": {
            "text/plain": [
              "<Figure size 432x288 with 1 Axes>"
            ],
            "image/png": "[encoded data removed]"
          },
          "metadata": {
            "needs_background": "light"
          }
        }
      ]
    },
    {
      "cell_type": "code",
      "metadata": {
        "id": "NSPUTOCGI81O",
        "outputId": "ecb5b3d3-4443-4b8d-8627-c66f21848064",
        "colab": {
          "base_uri": "https://localhost:8080/",
          "height": 269
        }
      },
      "source": [
        "prediccion1SemanaDiciembre"
      ],
      "execution_count": 26,
      "outputs": [
        {
          "output_type": "execute_result",
          "data": {
            "text/plain": [
              "   pronostico\n",
              "0  185.362494\n",
              "1  161.615271\n",
              "2  213.571598\n",
              "3  221.025424\n",
              "4  186.995696\n",
              "5  213.404967\n",
              "6  189.290242"
            ],
            "text/html": [
              "\n",
              "  <div id=\"df-ebed4aa0-65ea-4fad-a95e-5d18f9f08167\">\n",
              "    <div class=\"colab-df-container\">\n",
              "      <div>\n",
              "<style scoped>\n",
              "    .dataframe tbody tr th:only-of-type {\n",
              "        vertical-align: middle;\n",
              "    }\n",
              "\n",
              "    .dataframe tbody tr th {\n",
              "        vertical-align: top;\n",
              "    }\n",
              "\n",
              "    .dataframe thead th {\n",
              "        text-align: right;\n",
              "    }\n",
              "</style>\n",
              "<table border=\"1\" class=\"dataframe\">\n",
              "  <thead>\n",
              "    <tr style=\"text-align: right;\">\n",
              "      <th></th>\n",
              "      <th>pronostico</th>\n",
              "    </tr>\n",
              "  </thead>\n",
              "  <tbody>\n",
              "    <tr>\n",
              "      <th>0</th>\n",
              "      <td>185.362494</td>\n",
              "    </tr>\n",
              "    <tr>\n",
              "      <th>1</th>\n",
              "      <td>161.615271</td>\n",
              "    </tr>\n",
              "    <tr>\n",
              "      <th>2</th>\n",
              "      <td>213.571598</td>\n",
              "    </tr>\n",
              "    <tr>\n",
              "      <th>3</th>\n",
              "      <td>221.025424</td>\n",
              "    </tr>\n",
              "    <tr>\n",
              "      <th>4</th>\n",
              "      <td>186.995696</td>\n",
              "    </tr>\n",
              "    <tr>\n",
              "      <th>5</th>\n",
              "      <td>213.404967</td>\n",
              "    </tr>\n",
              "    <tr>\n",
              "      <th>6</th>\n",
              "      <td>189.290242</td>\n",
              "    </tr>\n",
              "  </tbody>\n",
              "</table>\n",
              "</div>\n",
              "      <button class=\"colab-df-convert\" onclick=\"convertToInteractive('df-ebed4aa0-65ea-4fad-a95e-5d18f9f08167')\"\n",
              "              title=\"Convert this dataframe to an interactive table.\"\n",
              "              style=\"display:none;\">\n",
              "        \n",
              "  <svg xmlns=\"http://www.w3.org/2000/svg\" height=\"24px\"viewBox=\"0 0 24 24\"\n",
              "       width=\"24px\">\n",
              "    <path d=\"M0 0h24v24H0V0z\" fill=\"none\"/>\n",
              "    <path d=\"M18.56 5.44l.94 2.06.94-2.06 2.06-.94-2.06-.94-.94-2.06-.94 2.06-2.06.94zm-11 1L8.5 8.5l.94-2.06 2.06-.94-2.06-.94L8.5 2.5l-.94 2.06-2.06.94zm10 10l.94 2.06.94-2.06 2.06-.94-2.06-.94-.94-2.06-.94 2.06-2.06.94z\"/><path d=\"M17.41 7.96l-1.37-1.37c-.4-.4-.92-.59-1.43-.59-.52 0-1.04.2-1.43.59L10.3 9.45l-7.72 7.72c-.78.78-.78 2.05 0 2.83L4 21.41c.39.39.9.59 1.41.59.51 0 1.02-.2 1.41-.59l7.78-7.78 2.81-2.81c.8-.78.8-2.07 0-2.86zM5.41 20L4 18.59l7.72-7.72 1.47 1.35L5.41 20z\"/>\n",
              "  </svg>\n",
              "      </button>\n",
              "      \n",
              "  <style>\n",
              "    .colab-df-container {\n",
              "      display:flex;\n",
              "      flex-wrap:wrap;\n",
              "      gap: 12px;\n",
              "    }\n",
              "\n",
              "    .colab-df-convert {\n",
              "      background-color: #E8F0FE;\n",
              "      border: none;\n",
              "      border-radius: 50%;\n",
              "      cursor: pointer;\n",
              "      display: none;\n",
              "      fill: #1967D2;\n",
              "      height: 32px;\n",
              "      padding: 0 0 0 0;\n",
              "      width: 32px;\n",
              "    }\n",
              "\n",
              "    .colab-df-convert:hover {\n",
              "      background-color: #E2EBFA;\n",
              "      box-shadow: 0px 1px 2px rgba(60, 64, 67, 0.3), 0px 1px 3px 1px rgba(60, 64, 67, 0.15);\n",
              "      fill: #174EA6;\n",
              "    }\n",
              "\n",
              "    [theme=dark] .colab-df-convert {\n",
              "      background-color: #3B4455;\n",
              "      fill: #D2E3FC;\n",
              "    }\n",
              "\n",
              "    [theme=dark] .colab-df-convert:hover {\n",
              "      background-color: #434B5C;\n",
              "      box-shadow: 0px 1px 3px 1px rgba(0, 0, 0, 0.15);\n",
              "      filter: drop-shadow(0px 1px 2px rgba(0, 0, 0, 0.3));\n",
              "      fill: #FFFFFF;\n",
              "    }\n",
              "  </style>\n",
              "\n",
              "      <script>\n",
              "        const buttonEl =\n",
              "          document.querySelector('#df-ebed4aa0-65ea-4fad-a95e-5d18f9f08167 button.colab-df-convert');\n",
              "        buttonEl.style.display =\n",
              "          google.colab.kernel.accessAllowed ? 'block' : 'none';\n",
              "\n",
              "        async function convertToInteractive(key) {\n",
              "          const element = document.querySelector('#df-ebed4aa0-65ea-4fad-a95e-5d18f9f08167');\n",
              "          const dataTable =\n",
              "            await google.colab.kernel.invokeFunction('convertToInteractive',\n",
              "                                                     [key], {});\n",
              "          if (!dataTable) return;\n",
              "\n",
              "          const docLinkHtml = 'Like what you see? Visit the ' +\n",
              "            '<a target=\"_blank\" href=https://colab.research.google.com/notebooks/data_table.ipynb>data table notebook</a>'\n",
              "            + ' to learn more about interactive tables.';\n",
              "          element.innerHTML = '';\n",
              "          dataTable['output_type'] = 'display_data';\n",
              "          await google.colab.output.renderOutput(dataTable, element);\n",
              "          const docLink = document.createElement('div');\n",
              "          docLink.innerHTML = docLinkHtml;\n",
              "          element.appendChild(docLink);\n",
              "        }\n",
              "      </script>\n",
              "    </div>\n",
              "  </div>\n",
              "  "
            ]
          },
          "metadata": {},
          "execution_count": 26
        }
      ]
    },
    {
      "cell_type": "code",
      "metadata": {
        "id": "OH-DGWGpI81O"
      },
      "source": [
        ""
      ],
      "execution_count": 26,
      "outputs": []
    }
  ]
}